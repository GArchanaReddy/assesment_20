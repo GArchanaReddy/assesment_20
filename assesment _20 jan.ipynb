{
 "cells": [
  {
   "cell_type": "markdown",
   "id": "2df7e961",
   "metadata": {},
   "source": [
    "# 1.What will be the output of the following python program\n"
   ]
  },
  {
   "cell_type": "code",
   "execution_count": 1,
   "id": "a356e1ad",
   "metadata": {},
   "outputs": [
    {
     "name": "stdout",
     "output_type": "stream",
     "text": [
      "True\n"
     ]
    }
   ],
   "source": [
    "def foo(x): #You have a function foo that takes a list x as an argument.\n",
    "    x[0] = ['def']\n",
    "    x[1] = ['abc']# replace the elements at these indices with lists containing the strings 'def' and 'abc', respectively.\n",
    "    return id(x) #The function then returns the id of the modified list x.\n",
    "q=['abc','def' ]#a list q initially containing the strings 'abc' and 'def'.\n",
    "print(id(q)==foo(q))    #The comparison id(q) == foo(q) checks if the id of the original list q is equal to the id returned by the function."
   ]
  },
  {
   "cell_type": "code",
   "execution_count": 6,
   "id": "2e78e5ad",
   "metadata": {},
   "outputs": [
    {
     "name": "stdout",
     "output_type": "stream",
     "text": [
      "True\n"
     ]
    }
   ],
   "source": [
    "# explanation:\n",
    "def foo(x): #This line defines a function named foo that takes a single parameter x.\n",
    "    \n",
    "    '''\n",
    "    option - 1 [ Error ] :\n",
    "    it was wrong because the given code is executing ,without any error.\n",
    "\n",
    "    option -2 [ none ] :\n",
    "    it was wrong because ,when we dont write return statement it will give None,in the given function we have return statement.\n",
    "\n",
    "    option -3[ False ] :\n",
    "    it was also wrong because ,the ids of q and foo(q) are same ,it was right when \n",
    "\n",
    "    option -4[ True ] :\n",
    "    it was right becuase the given function prints true when it is executed \n",
    "    \n",
    "    '''\n",
    "    \n",
    "    x[0]=['def'] #Inside the function foo, this line modifies the first element of the list x by assigning it a new list ['def'].\n",
    "    \n",
    "    x[1]=['abc'] ##x[1] = ['abc']: Similarly, this line modifies the second element of the list x by assigning it a new list ['abc'].\n",
    "    \n",
    "    return id(x) #return id(x): The function returns the identity of the object x using the id() function. This identity is a unique identifier for the object in the current Python process.\n",
    "\n",
    "q=['abc','def']    #q = ['abc', 'def']: This line creates a list q with two string elements: 'abc' and 'def'.\n",
    "\n",
    "print(id(q)==foo(q)) #print(id(q) == foo(q)): This line prints whether the identity of the list q is equal to the value returned by the function foo(q).\n"
   ]
  },
  {
   "cell_type": "markdown",
   "id": "e0c9a2de",
   "metadata": {},
   "source": [
    "# 2)What will be the output of the following python code"
   ]
  },
  {
   "cell_type": "code",
   "execution_count": 8,
   "id": "b81fde3e",
   "metadata": {},
   "outputs": [
    {
     "name": "stdout",
     "output_type": "stream",
     "text": [
      "2\n"
     ]
    }
   ],
   "source": [
    "def fun():\n",
    "    try:\n",
    "        return 1#The try block contains a return 1 statement.\n",
    "    finally:\n",
    "        return 2#The finally block contains a return 1 statement.\n",
    "k = fun()\n",
    "print(k)\n",
    "# In Python, when a finally block is present, it is always executed, regardless of whether an exception occurs in the try block or not. In your code"
   ]
  },
  {
   "cell_type": "code",
   "execution_count": 9,
   "id": "98f06be6",
   "metadata": {},
   "outputs": [
    {
     "name": "stdout",
     "output_type": "stream",
     "text": [
      "2\n"
     ]
    }
   ],
   "source": [
    "# explantion\n",
    "def fun(): ## wring funciton which takes no arguments\n",
    "    '''\n",
    "    option -1 [error,there is more than one return statement in a single try finally block] :\n",
    "     it was wrong because,The code will not raise an error, even though there are two return statements in the try-finally block.\n",
    "     \n",
    "    option -2 [1]:\n",
    "    it was wrong because ,the value returned is not from the try block but from the finally block.\n",
    "    \n",
    "    option -3 [1  2]:\n",
    "    it was wrong because,The try block has return 1, but before the function exits, the finally block is executed, and finally block have return2. So, the function returns 2.\n",
    "    \n",
    "    option -4[2]:\n",
    "    it was correct answer ,The finally block always executes, and in this case, it overrides the return value from the try block, so the function returns 2.\n",
    "    The value returned from the finally block is assigned to k, and when print(k) is executed, it prints the value 2.\n",
    "    \n",
    "    '''\n",
    "    try: # \n",
    "        return 1\n",
    "    finally: #\n",
    "        return 2\n",
    "k=fun() # the above function is assigned to the variable\n",
    "print(k) ## printing the k"
   ]
  },
  {
   "cell_type": "markdown",
   "id": "d972ed9f",
   "metadata": {},
   "source": [
    "# 3.What will be the output of the following code snippet"
   ]
  },
  {
   "cell_type": "code",
   "execution_count": 10,
   "id": "00007c1b",
   "metadata": {},
   "outputs": [
    {
     "name": "stdout",
     "output_type": "stream",
     "text": [
      "Local\n"
     ]
    }
   ],
   "source": [
    "def func():\n",
    "    global value# value is initially set to \"Global\" outside the function.\n",
    "    value=\"Local\"#  value as a global variable using the global keyword and set its value to \"Local.\"\n",
    "value =\"Global\"\n",
    "func()\n",
    "print(value)#After the function call, the value of the global variable value is printed."
   ]
  },
  {
   "cell_type": "markdown",
   "id": "609c25f0",
   "metadata": {},
   "source": [
    "# 4 ) _______ expectations are raised as a result of an error in opening a particular file."
   ]
  },
  {
   "cell_type": "markdown",
   "id": "172cee0f",
   "metadata": {},
   "source": [
    "ValueError: Incorrect value provided to a function or operation.\n",
    "TypeError: Inappropriate type used in an operation or function.\n",
    "ImportError: Issue with importing a module or package.\n",
    "IOError: Input/Output operation error, such as a missing file."
   ]
  },
  {
   "cell_type": "markdown",
   "id": "cd0e92bd",
   "metadata": {},
   "source": [
    "the specific type of exception that is raised when there's an issue with opening a file is called an IOError. This means Input/Output Error. It's like a signal from Python telling you, \"Hey, there's a problem with reading or writing to this file!\""
   ]
  },
  {
   "cell_type": "markdown",
   "id": "80536eab",
   "metadata": {},
   "source": [
    "# 5 ) In python we do not specify types, it is directly interpreted by the compiler , so consider the following opeations to be performed.\n",
    "a)x= 13//2\n",
    "b)x= int(13/2)\n",
    "c) x=13%2\n",
    "d)all of the mentioned"
   ]
  },
  {
   "cell_type": "code",
   "execution_count": 13,
   "id": "eb426eb6",
   "metadata": {},
   "outputs": [],
   "source": [
    "x=13/2 ## it is directly interpreted by the compiler \n",
    "x=int(13/2)\n",
    "x=13%2 "
   ]
  },
  {
   "cell_type": "markdown",
   "id": "044fbf6c",
   "metadata": {},
   "source": [
    "# 6 ) what will be the output of the following python code\n",
    "a)index error\n",
    "b)name error\n",
    "c)value erro\n",
    "d)syntactical error"
   ]
  },
  {
   "cell_type": "code",
   "execution_count": 14,
   "id": "43a29576",
   "metadata": {},
   "outputs": [
    {
     "ename": "NameError",
     "evalue": "name 't' is not defined",
     "output_type": "error",
     "traceback": [
      "\u001b[1;31m---------------------------------------------------------------------------\u001b[0m",
      "\u001b[1;31mNameError\u001b[0m                                 Traceback (most recent call last)",
      "Cell \u001b[1;32mIn[14], line 1\u001b[0m\n\u001b[1;32m----> 1\u001b[0m t[\u001b[38;5;241m5\u001b[39m]\n",
      "\u001b[1;31mNameError\u001b[0m: name 't' is not defined"
     ]
    }
   ],
   "source": [
    "t[5] # we are not assigning anything to the t, before we accessing t[5] "
   ]
  },
  {
   "cell_type": "markdown",
   "id": "d67996d7",
   "metadata": {},
   "source": [
    "name error"
   ]
  },
  {
   "cell_type": "markdown",
   "id": "4dc42732",
   "metadata": {},
   "source": [
    "# 7 ) A while loop in python is used for what type of iteration.\n",
    "a)indefinite\n",
    "b)discriminant\n",
    "c)definite\n",
    "d)indeterminate"
   ]
  },
  {
   "cell_type": "markdown",
   "id": "f74244a4",
   "metadata": {},
   "source": [
    "In Python, indefinite iteration is performed with a while loop."
   ]
  },
  {
   "cell_type": "markdown",
   "id": "ad4a74c7",
   "metadata": {},
   "source": [
    "# 8 ) what will be the output of the following python code ?\n",
    "a)a b c d e\n",
    "b)abcde\n",
    "c)i i i i i i i\n",
    "d)Error\n",
    "option 4 is correct"
   ]
  },
  {
   "cell_type": "code",
   "execution_count": 17,
   "id": "4bdc2a85",
   "metadata": {},
   "outputs": [
    {
     "ename": "NameError",
     "evalue": "name 'i' is not defined",
     "output_type": "error",
     "traceback": [
      "\u001b[1;31m---------------------------------------------------------------------------\u001b[0m",
      "\u001b[1;31mNameError\u001b[0m                                 Traceback (most recent call last)",
      "Cell \u001b[1;32mIn[17], line 2\u001b[0m\n\u001b[0;32m      1\u001b[0m x \u001b[38;5;241m=\u001b[39m \u001b[38;5;124m\"\u001b[39m\u001b[38;5;124m abcde \u001b[39m\u001b[38;5;124m\"\u001b[39m\n\u001b[1;32m----> 2\u001b[0m \u001b[38;5;28;01mwhile\u001b[39;00m i \u001b[38;5;129;01min\u001b[39;00m x: \u001b[38;5;66;03m# The while loop in Python is typically used with a condition that evaluates to either True or False. In your initial code:\u001b[39;00m\n\u001b[0;32m      3\u001b[0m     \u001b[38;5;28mprint\u001b[39m(i,end\u001b[38;5;241m=\u001b[39m\u001b[38;5;124m\"\u001b[39m\u001b[38;5;124m \u001b[39m\u001b[38;5;124m\"\u001b[39m)\n",
      "\u001b[1;31mNameError\u001b[0m: name 'i' is not defined"
     ]
    }
   ],
   "source": [
    "x = \" abcde \"\n",
    "while i in x: # The while loop in Python is typically used with a condition that evaluates to either True or False. In your initial code:\n",
    "    print(i,end=\" \")"
   ]
  },
  {
   "cell_type": "markdown",
   "id": "0d1d370a",
   "metadata": {},
   "source": [
    " # 9 ) what is the main advantages of using decorators in python ?\n",
    "a)They make the code more complex\n",
    "b)They simplify the syntax of the decorated.\n",
    "c)They reduce the performance of the code.\n",
    "d)They provide additional security features."
   ]
  },
  {
   "cell_type": "markdown",
   "id": "7ec34fed",
   "metadata": {},
   "source": [
    "option 2 is correct\n",
    " The main advantage of using decorators in Python is that they simplify the syntax of the decorated functions by allowing yo"
   ]
  },
  {
   "cell_type": "markdown",
   "id": "cebb6bea",
   "metadata": {},
   "source": [
    "# 10) if return statement is not used inside the funciton,the funciton will return :\n",
    "a)None\n",
    "b)0\n",
    "c)Null\n",
    "d)Arbitary Value\n"
   ]
  },
  {
   "cell_type": "code",
   "execution_count": 19,
   "id": "dd64123f",
   "metadata": {},
   "outputs": [],
   "source": [
    "#Explanation: If a return statement is not used inside a function, Python automatically returns None by default.\n",
    "def foo():\n",
    "    x=0"
   ]
  },
  {
   "cell_type": "markdown",
   "id": "a063658a",
   "metadata": {},
   "source": [
    "The correct answer is: a) None\n",
    "\n",
    "In Python, if a function does not contain a return statement, it implicitly returns None. This is the default behavior when the function reaches the end without encountering a return statement."
   ]
  },
  {
   "cell_type": "markdown",
   "id": "56d0631f",
   "metadata": {},
   "source": [
    "# 11) What is called when a function is defined inside a class?"
   ]
  },
  {
   "cell_type": "markdown",
   "id": "ae484981",
   "metadata": {},
   "source": [
    "a) class\n",
    "\n",
    "b) function\n",
    "\n",
    "c) method\n",
    "\n",
    "d) module"
   ]
  },
  {
   "cell_type": "markdown",
   "id": "6b18bd66",
   "metadata": {},
   "source": [
    "Explanation\n",
    "In Python, when a function is defined inside a class, it is referred to as a method. Therefore, the correct answer is:\n",
    "\n",
    "Answer: c) method"
   ]
  },
  {
   "cell_type": "markdown",
   "id": "076dd071",
   "metadata": {},
   "source": [
    " # 12. Which operator is used in Python to import modules from packages?\n",
    "a).\n",
    "\n",
    "b)*\n",
    "\n",
    "c) ->\n",
    "\n",
    "d) &"
   ]
  },
  {
   "cell_type": "markdown",
   "id": "6f8c4e53",
   "metadata": {},
   "source": [
    "Explanation:\n",
    "In Python, the dot (.) operator is used to import modules from packages. Therefore, option 'a' is the correct answer.\n",
    "\n",
    "Conclusion:\n",
    "Using the dot operator in import statements helps organize code into hierarchical structures, facilitating the management of modules within packages."
   ]
  },
  {
   "cell_type": "code",
   "execution_count": null,
   "id": "b7435b60",
   "metadata": {},
   "outputs": [],
   "source": [
    "13.\n",
    "def getMonth (m):\n",
    "\n",
    "    if m<1 or m>12:\n",
    "\n",
    "        raise ValueError(\"Invalid\")\n",
    "\n",
    "    print(m)\n",
    "\n",
    "getMonth (6)\n"
   ]
  },
  {
   "cell_type": "code",
   "execution_count": null,
   "id": "324fbebe",
   "metadata": {},
   "outputs": [],
   "source": [
    "a) ValueError\n",
    "\n",
    "b) Invalid\n",
    "\n",
    "c) 6\n",
    "\n",
    "d) ValueError(\"Invalid\")"
   ]
  },
  {
   "cell_type": "code",
   "execution_count": 3,
   "id": "3330d082",
   "metadata": {},
   "outputs": [
    {
     "name": "stdout",
     "output_type": "stream",
     "text": [
      "6\n"
     ]
    }
   ],
   "source": [
    "def getMonth (m):\n",
    "\n",
    "    if m<1 or m>12:\n",
    "        raise ValueError(\"Invalid\")\n",
    "\n",
    "    print(m)\n",
    "getMonth (6)"
   ]
  },
  {
   "cell_type": "markdown",
   "id": "85a7b7e2",
   "metadata": {},
   "source": [
    " # 14. in the Python Programming Language, syntax error is detected by at\n",
    "a) Interpreter/Compile time\n",
    "\n",
    "b) Run time / Interpreter\n",
    "\n",
    "c) Interpreter / Run time\n",
    "\n",
    "d) Compile time / Run time"
   ]
  },
  {
   "cell_type": "markdown",
   "id": "afcaf777",
   "metadata": {},
   "source": [
    "Explanation\n",
    "a) Interpreter/Compile time: This suggests that syntax errors are detected by both the interpreter and the compiler.\n",
    "b) Run time / Interpreter: This suggests that syntax errors are detected during runtime by the interpreter.\n",
    "c) Interpreter / Run time: This suggests that syntax errors are detected by the interpreter during runtime.\n",
    "d) Compile time / Run time: This suggests that syntax errors are detected by both the compiler and during runtime.\n",
    "Python is an interpreted language, and syntax errors are typically detected by the interpreter during compile time, so the correct option is:\n",
    "\n",
    "Answer: a) Interpreter/Compile time\n",
    "\n",
    "This means that Python checks for syntax errors when the code is being compiled or interpreted, not during runtime."
   ]
  },
  {
   "cell_type": "markdown",
   "id": "b77bf659",
   "metadata": {},
   "source": [
    " # 15.\n",
    "class Book: \n",
    "    def_init__(self,author): \n",
    "        self.author-author \n",
    "\n",
    "book1=Book(\"V.M.Shah\")\n",
    "book2=book1\n",
    "\n",
    "a) Both book1 and book2 will have reference to two different objects of class Book\n",
    "\n",
    "b) id(book1) and id(book2) will have same value\n",
    "\n",
    "c) It will throw error as multiple references to same object is not possible\n",
    "\n",
    "d) None of the above"
   ]
  },
  {
   "cell_type": "code",
   "execution_count": 4,
   "id": "215927ea",
   "metadata": {},
   "outputs": [
    {
     "data": {
      "text/plain": [
       "(2144153450768, 2144153450768)"
      ]
     },
     "execution_count": 4,
     "metadata": {},
     "output_type": "execute_result"
    }
   ],
   "source": [
    "class Book:\n",
    "    def __init__(self,author):\n",
    "        self.author=author \n",
    "        \n",
    "book1=Book(\"V.M.Shah\")\n",
    "book2=book1\n",
    "id(book1), id(book2)"
   ]
  },
  {
   "cell_type": "markdown",
   "id": "e7534ca2",
   "metadata": {},
   "source": [
    "# 16) How to create a new column 'Revenue', which has value equals to the Quantity* UnitPrice of the current row?\n",
    "a) df['Revenue'] = df['Quantity']* df['UnitPrice']\n",
    "\n",
    "b) df['Revenue'] = df.apply(lambda x: x['Quantity']* x['UnitPrice'], axis = 1)\n",
    "\n",
    "c) df['Revenue'] = df.apply(lambda x: x['Quantity']* x['UnitPrice'], axis = 0)\n",
    "\n",
    "d) df['Revenue'] = df['Quantity'] ** df['UnitPrice']"
   ]
  },
  {
   "cell_type": "code",
   "execution_count": null,
   "id": "9fe4b4e4",
   "metadata": {},
   "outputs": [],
   "source": [
    "The correct option is:\n",
    "a) df['Revenue'] = df['Quantity']* df['UnitPrice']\n",
    "\n",
    "This means creating a new column 'Revenue' by multiplying 'Quantity' and 'UnitPrice' for each row."
   ]
  },
  {
   "cell_type": "markdown",
   "id": "a29e45a8",
   "metadata": {},
   "source": [
    " # 17. What is the syntax to find Categorical wise revenue?\n",
    "a) df.groupby('Category')['Revenue'].mean()\n",
    "\n",
    "b) df.groupby('Category')['Revenue'].sum()\n",
    "\n",
    "c) df.groupby('Category')['Revenue'].agg(np.su m)\n",
    "\n",
    "d) df.groupby('Category')['Revenue'].agg('sum')"
   ]
  },
  {
   "cell_type": "code",
   "execution_count": null,
   "id": "d5d5615c",
   "metadata": {},
   "outputs": [],
   "source": [
    "Explanation:\n",
    "Grouping the DataFrame 'df' by the 'Category' column and calculating the sum of the 'Revenue' column for each group.\n",
    "\n",
    "df.groupby('Category')['Revenue'].sum()"
   ]
  },
  {
   "cell_type": "markdown",
   "id": "5cedabdd",
   "metadata": {},
   "source": [
    "# 18. To find the average quantity wrt to date and product, what is the correct syntax?"
   ]
  },
  {
   "cell_type": "markdown",
   "id": "a4db0207",
   "metadata": {},
   "source": [
    "a) df.groupby(['Date', 'Product'])['Quantity'].avg()\n",
    "\n",
    "b) df.groupby(['Date', 'Product'])['Quantity'].mean()\n",
    "\n",
    "c) df.groupby(['Product', 'Date'])['Quantity'].avg()\n",
    "\n",
    "d) df.groupby(['Product', 'Mean'])['Quantity'].mean()"
   ]
  },
  {
   "cell_type": "markdown",
   "id": "781b792f",
   "metadata": {},
   "source": [
    "Explanation:\n",
    "Grouping the DataFrame 'df' by both 'Date' and 'Product' columns and calculating the mean of the 'Quantity' column for each group."
   ]
  },
  {
   "cell_type": "markdown",
   "id": "11157358",
   "metadata": {},
   "source": [
    " # 19). Categorical wise revenue for Beverage and Food respectively are\n",
    "a) 28.5, 6.0\n",
    "\n",
    "b) 6.0, 27.5\n",
    "\n",
    "c) 28.5, 7.0\n",
    "\n",
    "d) 7.0, 28.5"
   ]
  },
  {
   "cell_type": "code",
   "execution_count": 7,
   "id": "8eea4ac8",
   "metadata": {},
   "outputs": [
    {
     "data": {
      "text/plain": [
       "(21.0, 6.5)"
      ]
     },
     "execution_count": 7,
     "metadata": {},
     "output_type": "execute_result"
    }
   ],
   "source": [
    "21.0, 6.5"
   ]
  },
  {
   "cell_type": "markdown",
   "id": "a926a733",
   "metadata": {},
   "source": [
    " # 20. Using transform, what is the syntax to create a column which has a UnitPrice difference wrt its Category mean?\n",
    "a) df.groupby('Category')['UnitPrice'].transform(I ambda x: x - x.mean())\n",
    "\n",
    "b) df.groupby('Category') ('UnitPrice').transform(I ambda x: x - x.mean())\n",
    "\n",
    "c) df.groupby['Category']['UnitPrice'].transform(I ambda x: x - x.mean())\n",
    "\n",
    "d) df.groupby(['Category', 'UnitPrice']).transform(lambda x: x - x.mean())"
   ]
  },
  {
   "cell_type": "markdown",
   "id": "b8dbad81",
   "metadata": {},
   "source": [
    "Explanation:\n",
    "Grouping the DataFrame 'df' by the 'Category' column and using the transform function to calculate the difference between each 'UnitPrice' and the mean 'UnitPrice' within its corresponding category.\n",
    "df['UnitPriceDifference'] = df.groupby('Category')['UnitPrice'].transform(lambda x: x - x.mean())"
   ]
  },
  {
   "cell_type": "markdown",
   "id": "e3dce65a",
   "metadata": {},
   "source": [
    " # 21. What is the correct syntax to get data wrt 'Monday'?\n",
    "a) df.groupby(df.Date.dt.day_name()).get_grou p('Monday')\n",
    "\n",
    "b) df.groupby(df.Date.dt.dayname()).get_group( 'Monday')\n",
    "\n",
    "c) df.groupby(df.Date.dt.dayofweek()).get_grou p('Monday')\n",
    "\n",
    "d) df.groupby(df.Date.dt.day_of_week()).get_gr oup('Monday')"
   ]
  },
  {
   "cell_type": "markdown",
   "id": "4052c18a",
   "metadata": {},
   "source": [
    "df.Date.dt.day_name(): This extracts the day name from the 'Date' column.\n",
    "groupby(df.Date.dt.day_name()): Groups the DataFrame by the day names.\n",
    "get_group('Monday'): Retrieves the data corresponding to the 'Monday' group.\n",
    "So, the correct syntax to get data for 'Monday' is option:\n",
    "a) df.groupby(df.Date.dt.day_name()).get_group('Monday')"
   ]
  },
  {
   "cell_type": "markdown",
   "id": "02959f0b",
   "metadata": {},
   "source": [
    " # 22. Which of the following statements is/are True?\n",
    "a) apply() can be applied on rows\n",
    "\n",
    "b) Apply function can't be applied on rows\n",
    "\n",
    "c) Apply applies the function on the entire series at a time.\n",
    "\n",
    "d) Apply applies the function one cell at a time"
   ]
  },
  {
   "cell_type": "markdown",
   "id": "4a252026",
   "metadata": {},
   "source": [
    "output\n",
    "a) apply() can be applied on rows\n",
    "\n",
    "c) apply() applies the function on the entire series at a time\n",
    "\n",
    "Explanation\n",
    "The apply() function in pandas can be applied to both rows and columns, and by default, it operates on entire series (columns). If you want to apply a function to each element in a series, you might want to use map() or applymap() for DataFrames."
   ]
  },
  {
   "cell_type": "markdown",
   "id": "581cede1",
   "metadata": {},
   "source": [
    " # 23. Which of the following statements is/are True?\n",
    "apply and map provide vectorized operations, but apply is more versatile and applicable to both DataFrames and Series, while map is specific to Series and is often used for value substitution based on a mapping."
   ]
  },
  {
   "cell_type": "code",
   "execution_count": 10,
   "id": "5aeb3f14",
   "metadata": {},
   "outputs": [
    {
     "ename": "SyntaxError",
     "evalue": "invalid syntax (3024921250.py, line 13)",
     "output_type": "error",
     "traceback": [
      "\u001b[1;36m  Cell \u001b[1;32mIn[10], line 13\u001b[1;36m\u001b[0m\n\u001b[1;33m    Date\tRegion\tSalesperson\u001b[0m\n\u001b[1;37m        \t^\u001b[0m\n\u001b[1;31mSyntaxError\u001b[0m\u001b[1;31m:\u001b[0m invalid syntax\n"
     ]
    }
   ],
   "source": [
    "data = {\n",
    "    'Date': ['2024-01-10', '2024-01-11', '2024-01-10','2024-01-12','2024-01-11','2024-01-12'],\n",
    "    'Region': ['North', 'South', 'East','West','North','East'],\n",
    "    'Salesperson': ['Ajay', 'Balu', 'Chirag','Ajay','Balu','Chiraj'],\n",
    "    'Product': ['Notebook', 'Pen', 'Notebook','Pen','Binder','Binder'],\n",
    "    'Quantity': [5, 10, 7,15,20,10],\n",
    "    'UnitPrice': [12, 3, 12,3,5,5]\n",
    "}\n",
    "\n",
    "df1= pd.DataFrame(data)\n",
    "\n",
    "df1\n",
    "Date\tRegion\tSalesperson\t"
   ]
  },
  {
   "cell_type": "markdown",
   "id": "ef953d21",
   "metadata": {},
   "source": [
    " # 24. What is the syntax to create a pivot table with index as North and South and columns as Product where values are sum of Quantities Sold?\n",
    "a) df1[df1['Region].isin(['North', 'South']).pivot_table(index = 'Product', columns = 'Product', values = 'Quantity', agg = 'sum')\n",
    "\n",
    "b) df1 [df1['Region].isin(['North', 'South']).pivot_table(index = 'Product', columns = 'Product', values = 'Quantity', aggfunc = 'sum')\n",
    "\n",
    "c) df1[(df1['Region] == 'North') | (df1['Region']=='South')]).pivot_table(index = 'Product', columns = 'Product', values = 'Quantity', agg = 'sum')\n",
    "\n",
    "d) df1[(df1['Region] == 'North') | (df1['Region']=='South')]).pivot_table(index = 'Product', columns = Product, values = 'Quantity', aggfunc = 'sum')"
   ]
  },
  {
   "cell_type": "markdown",
   "id": "9f3fcf23",
   "metadata": {},
   "source": [
    "The correct syntax is option:\n",
    "b) df1[df1['Region'].isin(['North', 'South']).pivot_table(index='Product', columns='Product', values='Quantity', aggfunc='sum')\n",
    "\n",
    "Explanation:\n",
    "- df1['Region'].isin(['North', 'South']): Filters rows where the Region is either 'North' or 'South'.\n",
    "- .pivot_table(): Creates a pivot table from the filtered DataFrame.\n",
    "- index='Product': Sets the 'Product' column as the index of the pivot table.\n",
    "- columns='Product': Sets the 'Product' column as the columns of the pivot table.\n",
    "- values='Quantity': Specifies that the values of the pivot table should be taken from the 'Quantity' column.\n",
    "- aggfunc='sum': Specifies the aggregation function to be 'sum', meaning it calculates the sum of quantities sold."
   ]
  },
  {
   "cell_type": "markdown",
   "id": "c90fc043",
   "metadata": {},
   "source": [
    " # 25. Which of the following statements is/are True?\n",
    "a) iloc method includes includes the last element when used for slicing\n",
    "\n",
    "b) loc method doesn't includes the last element when used for slicing\n",
    "\n",
    "c) We can use .loc method and pass default integer index of rows when slicing\n",
    "\n",
    "d) None of above"
   ]
  },
  {
   "cell_type": "markdown",
   "id": "9fb3e0fb",
   "metadata": {},
   "source": [
    "output\n",
    "The correct statements are:\n",
    "\n",
    "a) iloc method includes the last element when used for slicing.\n",
    "\n",
    "b) loc method doesn't include the last element when used for slicing.\n",
    "\n",
    "Explanation:\n",
    "\n",
    "a) iloc is integer-location based indexing, and when used for slicing, it includes the last element.\n",
    "\n",
    "b) loc is label-based indexing, and when used for slicing, it includes the start label but excludes the end label.\n",
    "\n",
    "c) It is not accurate. You cannot use .loc with default integer indices; it requires the labels of the rows."
   ]
  },
  {
   "cell_type": "markdown",
   "id": "47e5e81b",
   "metadata": {},
   "source": [
    " # 26. Using a pivot table is it possible to create a multi-index dataframe, if so what is the syntax to have a multi index of Date and Region, with total Product sold as values?\n",
    "a) No we can't create a multi-index table using pivot table\n",
    "\n",
    "b) df1.pivot_table(index=['Date', 'Region'], columns = 'Product', values = 'Quantity', aggfunc = 'sum')\n",
    "\n",
    "c) df1.pivot_table(index=['Date', 'Region'], columns = 'Product', values = 'Quantity', agg = 'sum')\n",
    "\n",
    "d) None of these"
   ]
  },
  {
   "cell_type": "markdown",
   "id": "27dbe6ae",
   "metadata": {},
   "source": [
    "output\n",
    "b) df1.pivot_table(index=['Date', 'Region'], columns='Product', values='Quantity', aggfunc='sum')\n",
    "\n",
    "This syntax correctly specifies creating a pivot table with a multi-index of 'Date' and 'Region', where the values are the sum of 'Quantity' for each combination of 'Date' and 'Region' for each 'Product'."
   ]
  },
  {
   "cell_type": "markdown",
   "id": "12bacc8f",
   "metadata": {},
   "source": [
    "# 27. What does the margins parameter in the pivot_table() function allow you to include in the pivot table?"
   ]
  },
  {
   "cell_type": "markdown",
   "id": "37a9a6d1",
   "metadata": {},
   "source": [
    "a) Additional margins and subtotals for rows and columns.\n",
    "\n",
    "b) A list of column names to exclude from the pivot table.\n",
    "\n",
    "c) The number of rows and columns to skip at the beginning of the pivot table.\n",
    "\n",
    "d) The maximum number of rows and columns to display in the pivot table"
   ]
  },
  {
   "cell_type": "markdown",
   "id": "c3ccaf09",
   "metadata": {},
   "source": [
    "output\n",
    "a) Additional margins and subtotals for rows and columns.\n",
    "\n",
    "Explanation\n",
    "The margins parameter in the pivot_table() function allows you to include additional margins and subtotals for rows and columns in the pivot table. Setting margins=True will include subtotals for each row and column, as well as an overall total. Setting margins='rows' will include subtotals for each row, and margins='columns' will include subtotals for each column. Setting margins=False (the default) will not include any additional margins or subtotals."
   ]
  },
  {
   "cell_type": "markdown",
   "id": "09ef5fd4",
   "metadata": {},
   "source": [
    "# 29. What kind of missing values handling technique is appropriate for df2?\n",
    "a) Imputing Price col with Price's mean\n",
    "\n",
    "b) Imputing Price col with Price's median\n",
    "\n",
    "c) Imputing Price col with individual fruits' Price's median\n",
    "\n",
    "d) Dropping missing values"
   ]
  },
  {
   "cell_type": "markdown",
   "id": "b1fb5d6d",
   "metadata": {},
   "source": [
    "Explanation\n",
    "c) Imputing Price col with individual fruits' Price's median:\n",
    "\n",
    "The median is less sensitive to outliers compared to the mean, making it a robust choice, especially if the distribution of prices is skewed or has outliers. Imputing with the median provides a reasonable estimate of the central tendency of the data while being less influenced by extreme values."
   ]
  },
  {
   "cell_type": "markdown",
   "id": "97038608",
   "metadata": {},
   "source": [
    "# 30. If we choose to impute missing values in Price col by with individual Fruits' Price's mean, how many missing values will be post imputation?"
   ]
  },
  {
   "cell_type": "markdown",
   "id": "b5a1cf5c",
   "metadata": {},
   "source": [
    "a) 2\n",
    "\n",
    "b) 0\n",
    "\n",
    "c) 1\n",
    "\n",
    "d) 3"
   ]
  },
  {
   "cell_type": "code",
   "execution_count": null,
   "id": "0415f672",
   "metadata": {},
   "outputs": [],
   "source": [
    "1"
   ]
  },
  {
   "cell_type": "markdown",
   "id": "60cd87db",
   "metadata": {},
   "source": [
    " # 31. If a = pd.Series([np.nan, 1, 2, пр.п np.nan, np.nan, np.nan, 4, 5, 7])\n",
    "What will be the output of a.interpolate()\n",
    "\n",
    "a) (nan, 1.0, 2.0, 2.3, 2.7, 3.1, 3.5, 4.0, 5.0, 7.01\n",
    "\n",
    "b) (nan, 1.0, 2.0, 2.5, 2.9, 3.3, 3.8, 4.0, 5.0. 7.01\n",
    "\n",
    "c) (nan, 1.0, 2.0, 2.4, 2.8, 32, 36, 4.0, 5.0. 7.01\n",
    "\n",
    "d) Error"
   ]
  },
  {
   "cell_type": "code",
   "execution_count": 21,
   "id": "58590dbe",
   "metadata": {},
   "outputs": [
    {
     "ename": "NameError",
     "evalue": "name 'pd' is not defined",
     "output_type": "error",
     "traceback": [
      "\u001b[1;31m---------------------------------------------------------------------------\u001b[0m",
      "\u001b[1;31mNameError\u001b[0m                                 Traceback (most recent call last)",
      "Cell \u001b[1;32mIn[21], line 1\u001b[0m\n\u001b[1;32m----> 1\u001b[0m a \u001b[38;5;241m=\u001b[39m pd\u001b[38;5;241m.\u001b[39mSeries([np\u001b[38;5;241m.\u001b[39mnan, \u001b[38;5;241m1\u001b[39m, \u001b[38;5;241m2\u001b[39m, пр\u001b[38;5;241m.\u001b[39mпan, np\u001b[38;5;241m.\u001b[39mnan, np\u001b[38;5;241m.\u001b[39mnan, np\u001b[38;5;241m.\u001b[39mnan, \u001b[38;5;241m4\u001b[39m, \u001b[38;5;241m5\u001b[39m, \u001b[38;5;241m7\u001b[39m])\n\u001b[0;32m      2\u001b[0m a\n",
      "\u001b[1;31mNameError\u001b[0m: name 'pd' is not defined"
     ]
    }
   ],
   "source": [
    "a = pd.Series([np.nan, 1, 2, пр.пan, np.nan, np.nan, np.nan, 4, 5, 7])\n",
    "a"
   ]
  },
  {
   "cell_type": "markdown",
   "id": "c71e471b",
   "metadata": {},
   "source": [
    " # 32. What is the use of the normalization parameter in the crosstab method of pandas?\n",
    "a) It used to normalize values by dividing them by the total count\n",
    "\n",
    "b) To add margins\n",
    "\n",
    "c) There is no parameter called as normalize in crosstab\n",
    "\n",
    "d) Both a & c"
   ]
  },
  {
   "cell_type": "markdown",
   "id": "b9de5971",
   "metadata": {},
   "source": [
    "Answer\n",
    "a) It is used to normalize values by dividing them by the total count\n",
    "\n",
    "When normalize is set to True, the cross-tabulation table is a frequency table expressed as fractions, i.e., the cell value shows the fraction of the row/column/total count, depending on the value of normalize. This can be useful in understanding the proportion of occurrences in the data, rather than the absolute count. Please note that this parameter does not add margins; there is a separate parameter called margins in crosstab for that purpose."
   ]
  },
  {
   "cell_type": "code",
   "execution_count": null,
   "id": "f47bb90c",
   "metadata": {},
   "outputs": [],
   "source": []
  }
 ],
 "metadata": {
  "kernelspec": {
   "display_name": "Python 3 (ipykernel)",
   "language": "python",
   "name": "python3"
  },
  "language_info": {
   "codemirror_mode": {
    "name": "ipython",
    "version": 3
   },
   "file_extension": ".py",
   "mimetype": "text/x-python",
   "name": "python",
   "nbconvert_exporter": "python",
   "pygments_lexer": "ipython3",
   "version": "3.11.5"
  }
 },
 "nbformat": 4,
 "nbformat_minor": 5
}
